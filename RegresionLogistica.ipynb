{
 "cells": [
  {
   "cell_type": "code",
   "execution_count": 399,
   "metadata": {},
   "outputs": [],
   "source": [
    "#Regresion Logistica\n",
    "import pandas as pd\n",
    "import numpy as np\n",
    "import random \n",
    "import matplotlib.pyplot as plt\n",
    "\n",
    "dataset = [\"diabetes\",\n",
    "              \"Enfermedad_Cardiaca\"]"
   ]
  },
  {
   "cell_type": "code",
   "execution_count": 400,
   "metadata": {},
   "outputs": [],
   "source": [
    "def LeerDatos(filename : str, header = True):\n",
    "    if (header):\n",
    "        data = pd.read_csv(filename + \".csv\", sep ='\\t', header = 0)\n",
    "    else:\n",
    "        data = pd.read_csv(filename+ \".csv\", sep ='\\t', header = None)\n",
    "    data = data.sample(frac = 1)\n",
    "    data = data.sort_values(data.columns[-1])\n",
    "    #return np.array(data.iloc[:,:])\n",
    "    return data.to_numpy()"
   ]
  },
  {
   "cell_type": "code",
   "execution_count": 401,
   "metadata": {},
   "outputs": [],
   "source": [
    "diabetes = LeerDatos(dataset[0])\n",
    "cardiaca = LeerDatos(dataset[1])"
   ]
  },
  {
   "cell_type": "code",
   "execution_count": 402,
   "metadata": {},
   "outputs": [],
   "source": [
    "def Normalizar_Datos(data : np.array):\n",
    "    #Excepto la ultima columna que indica la clase\n",
    "    #normal = np.empty_like(data)\n",
    "    for i in range (0,np.size(data[0])-1):\n",
    "        media = np.mean(data[:,i])\n",
    "        desvi =np.std(data[:,i])\n",
    "        data[:,i] = (data[:,i] - media)/desvi\n",
    "    return data"
   ]
  },
  {
   "cell_type": "code",
   "execution_count": 403,
   "metadata": {},
   "outputs": [],
   "source": [
    "diabetes = Normalizar_Datos(diabetes)\n",
    "cardiaca = Normalizar_Datos(cardiaca)"
   ]
  },
  {
   "cell_type": "code",
   "execution_count": 404,
   "metadata": {},
   "outputs": [],
   "source": [
    "def Sigmoidal(X:np.array, theta:np.array):\n",
    "    pot = X.dot(theta.T)\n",
    "    return 1/(1+ np.exp(-pot))"
   ]
  },
  {
   "cell_type": "code",
   "execution_count": 405,
   "metadata": {},
   "outputs": [],
   "source": [
    "def Calcular_Funcion_Costo(X: np.array, y:np.array, theta:np.array):\n",
    "    #J(theta) = -1/m[ SUM( y* log(h(x)) + (1-y)*log(1-h(x)))\n",
    "    m = np.size(X[:,0]) #numero de datos\n",
    "    h = Sigmoidal(X, theta)\n",
    "    return -1/m * ( np.sum( y.dot(np.log(h)) + (1-y).dot( np.log(1-h))) )"
   ]
  },
  {
   "cell_type": "code",
   "execution_count": 406,
   "metadata": {},
   "outputs": [],
   "source": [
    "def Calcular_Gradiente(X:np.array, y:np.array, theta:np.array):\n",
    "    #deriv = 1/m[ SUM (h(x)-y)x ]\n",
    "    m = np.size(X[:,0]) #numero de datos\n",
    "    h = Sigmoidal(X, theta) - y\n",
    "    return np.dot(h, X) / m\n",
    "    "
   ]
  },
  {
   "cell_type": "code",
   "execution_count": 407,
   "metadata": {},
   "outputs": [],
   "source": [
    "def Gradiente_Descendiente(X: np.array, y:np.array, theta:np.array,\n",
    "                          num_itera:int, tasa_apren:float):\n",
    "    arr_costo = np.empty(num_itera, dtype =float)\n",
    "    #Calculo con valor inicial\n",
    "    for it in range(0, num_itera):\n",
    "        arr_costo[it] = Calcular_Funcion_Costo(X, y, theta)\n",
    "        theta = theta - (tasa_apren* Calcular_Gradiente(X, y, theta))\n",
    "    return theta, arr_costo"
   ]
  },
  {
   "cell_type": "code",
   "execution_count": 408,
   "metadata": {},
   "outputs": [],
   "source": [
    "def Calcular_Accuracy(X:np.array, y:np.array, theta:np.array):\n",
    "    y_calc = np.around(Sigmoidal(X, theta))\n",
    "    #y_accu = np.invert(np.bitwise_xor(y, y_calc))\n",
    "    aciertos = 0\n",
    "    for i in (y - y_calc):\n",
    "        if (i == 0):\n",
    "            aciertos += 1\n",
    "    return aciertos/np.size(y)"
   ]
  },
  {
   "cell_type": "code",
   "execution_count": 409,
   "metadata": {},
   "outputs": [],
   "source": [
    "def PromedioAccuracy(test:np.array, theta, k):\n",
    "    accu = np.zeros(k)\n",
    "    for i in range(0,k):\n",
    "        accu[i] = Calcular_Accuracy(test[i][:,:-1], test[i][:,-1], theta)\n",
    "    return accu.mean()"
   ]
  },
  {
   "cell_type": "code",
   "execution_count": 410,
   "metadata": {},
   "outputs": [],
   "source": [
    "def Crear_k_folds(data:np.array, k:int):\n",
    "    folds = []\n",
    "    m = np.size(data[:,-1]) # numero de datos\n",
    "    num_1 = np.count_nonzero(data[:,-1]) #numero clase 1\n",
    "    num_0 = m - num_1 #numero clase 0\n",
    "    new_num_1 = int(num_1/k) #Para conservar proporcion\n",
    "    new_num_0 = int(num_0/k)\n",
    "    print(\"0: \" , new_num_0)\n",
    "    print(\"1: \" , new_num_1)\n",
    "    fold0 = np.array_split(data[0:num_0], k)\n",
    "    fold1 = np.array_split(data[num_0:], k)\n",
    "    #print (fold0)\n",
    "    for i in range (0,k):\n",
    "        folds.append(np.vstack((fold0[i],fold1[i])))\n",
    "    return folds"
   ]
  },
  {
   "cell_type": "code",
   "execution_count": 411,
   "metadata": {},
   "outputs": [
    {
     "name": "stdout",
     "output_type": "stream",
     "text": [
      "0:  166\n",
      "1:  89\n",
      "0:  46\n",
      "1:  55\n"
     ]
    }
   ],
   "source": [
    "fold_diabetes = Crear_k_folds(diabetes, 3)\n",
    "fold_cardiaca = Crear_k_folds(cardiaca, 3)"
   ]
  },
  {
   "cell_type": "code",
   "execution_count": 423,
   "metadata": {},
   "outputs": [],
   "source": [
    "def CalculoParametros(folds:[], k:int, iteraciones, alpha):\n",
    "    arr_costo = []\n",
    "    arr_theta = []\n",
    "    arr_test = []\n",
    "    for test_i in range(0, k):\n",
    "        test = folds[test_i] \n",
    "        train = np.zeros( (0,np.size(folds[0][0])) )\n",
    "        for train_i in range (0, k):         \n",
    "            if (train_i == test_i):\n",
    "                continue\n",
    "            else:\n",
    "                train = np.vstack( (train,folds[train_i]) )\n",
    "            \n",
    "        costo = []\n",
    "        X_train = train[:,:-1]\n",
    "        y_train = train[:,-1]\n",
    "        theta = np.zeros( (np.size(X_train[0])) )\n",
    "    #s = Sigmoidal(X_train, theta)\n",
    "    #c = Calcular_Funcion_Costo(X_train, y_train, theta)\n",
    "        theta, costo = Gradiente_Descendiente(X_train, y_train, theta, iteraciones, alpha)\n",
    "        arr_theta.append(theta)\n",
    "        arr_costo.append(costo)\n",
    "        arr_test.append(test)\n",
    "      \n",
    "    return theta, arr_costo, arr_test"
   ]
  },
  {
   "cell_type": "code",
   "execution_count": 426,
   "metadata": {},
   "outputs": [],
   "source": [
    "def BusquedaParametros(folds:[], k):\n",
    "    alpha = [0.01, 0.05, 0.1, 0.2, 0.3, 0.4]\n",
    "    iteraciones = range(500,3501,500)\n",
    "    arr_accu = np.empty( (len(alpha),len(iteraciones) ))\n",
    "    for tasa in range(0,len(alpha)):\n",
    "        for it in range(0, len(iteraciones)):\n",
    "            theta, dummy, test = CalculoParametros(folds, k, iteraciones[it], alpha[tasa])\n",
    "            arr_accu[tasa,it] = PromedioAccuracy(test, theta, k)\n",
    "            \n",
    "    return pd.DataFrame(arr_accu, index = alpha, columns = iteraciones)\n",
    "            "
   ]
  },
  {
   "cell_type": "code",
   "execution_count": 427,
   "metadata": {},
   "outputs": [
    {
     "data": {
      "text/html": [
       "<div>\n",
       "<style scoped>\n",
       "    .dataframe tbody tr th:only-of-type {\n",
       "        vertical-align: middle;\n",
       "    }\n",
       "\n",
       "    .dataframe tbody tr th {\n",
       "        vertical-align: top;\n",
       "    }\n",
       "\n",
       "    .dataframe thead th {\n",
       "        text-align: right;\n",
       "    }\n",
       "</style>\n",
       "<table border=\"1\" class=\"dataframe\">\n",
       "  <thead>\n",
       "    <tr style=\"text-align: right;\">\n",
       "      <th></th>\n",
       "      <th>500</th>\n",
       "      <th>1000</th>\n",
       "      <th>1500</th>\n",
       "      <th>2000</th>\n",
       "      <th>2500</th>\n",
       "      <th>3000</th>\n",
       "      <th>3500</th>\n",
       "    </tr>\n",
       "  </thead>\n",
       "  <tbody>\n",
       "    <tr>\n",
       "      <th>0.01</th>\n",
       "      <td>0.739591</td>\n",
       "      <td>0.742180</td>\n",
       "      <td>0.749997</td>\n",
       "      <td>0.749997</td>\n",
       "      <td>0.749992</td>\n",
       "      <td>0.746086</td>\n",
       "      <td>0.744789</td>\n",
       "    </tr>\n",
       "    <tr>\n",
       "      <th>0.05</th>\n",
       "      <td>0.749992</td>\n",
       "      <td>0.743482</td>\n",
       "      <td>0.744779</td>\n",
       "      <td>0.746076</td>\n",
       "      <td>0.746076</td>\n",
       "      <td>0.746076</td>\n",
       "      <td>0.746076</td>\n",
       "    </tr>\n",
       "    <tr>\n",
       "      <th>0.10</th>\n",
       "      <td>0.743482</td>\n",
       "      <td>0.746076</td>\n",
       "      <td>0.746076</td>\n",
       "      <td>0.746076</td>\n",
       "      <td>0.746076</td>\n",
       "      <td>0.746076</td>\n",
       "      <td>0.746076</td>\n",
       "    </tr>\n",
       "    <tr>\n",
       "      <th>0.20</th>\n",
       "      <td>0.746076</td>\n",
       "      <td>0.746076</td>\n",
       "      <td>0.746076</td>\n",
       "      <td>0.746076</td>\n",
       "      <td>0.746076</td>\n",
       "      <td>0.746076</td>\n",
       "      <td>0.746076</td>\n",
       "    </tr>\n",
       "    <tr>\n",
       "      <th>0.30</th>\n",
       "      <td>0.746076</td>\n",
       "      <td>0.746076</td>\n",
       "      <td>0.746076</td>\n",
       "      <td>0.746076</td>\n",
       "      <td>0.746076</td>\n",
       "      <td>0.746076</td>\n",
       "      <td>0.746076</td>\n",
       "    </tr>\n",
       "    <tr>\n",
       "      <th>0.40</th>\n",
       "      <td>0.746076</td>\n",
       "      <td>0.746076</td>\n",
       "      <td>0.746076</td>\n",
       "      <td>0.746076</td>\n",
       "      <td>0.746076</td>\n",
       "      <td>0.746076</td>\n",
       "      <td>0.746076</td>\n",
       "    </tr>\n",
       "  </tbody>\n",
       "</table>\n",
       "</div>"
      ],
      "text/plain": [
       "           500      1000      1500      2000      2500      3000      3500\n",
       "0.01  0.739591  0.742180  0.749997  0.749997  0.749992  0.746086  0.744789\n",
       "0.05  0.749992  0.743482  0.744779  0.746076  0.746076  0.746076  0.746076\n",
       "0.10  0.743482  0.746076  0.746076  0.746076  0.746076  0.746076  0.746076\n",
       "0.20  0.746076  0.746076  0.746076  0.746076  0.746076  0.746076  0.746076\n",
       "0.30  0.746076  0.746076  0.746076  0.746076  0.746076  0.746076  0.746076\n",
       "0.40  0.746076  0.746076  0.746076  0.746076  0.746076  0.746076  0.746076"
      ]
     },
     "execution_count": 427,
     "metadata": {},
     "output_type": "execute_result"
    }
   ],
   "source": [
    "BusquedaParametros(fold_diabetes, 3)"
   ]
  },
  {
   "cell_type": "code",
   "execution_count": 435,
   "metadata": {},
   "outputs": [
    {
     "data": {
      "text/html": [
       "<div>\n",
       "<style scoped>\n",
       "    .dataframe tbody tr th:only-of-type {\n",
       "        vertical-align: middle;\n",
       "    }\n",
       "\n",
       "    .dataframe tbody tr th {\n",
       "        vertical-align: top;\n",
       "    }\n",
       "\n",
       "    .dataframe thead th {\n",
       "        text-align: right;\n",
       "    }\n",
       "</style>\n",
       "<table border=\"1\" class=\"dataframe\">\n",
       "  <thead>\n",
       "    <tr style=\"text-align: right;\">\n",
       "      <th></th>\n",
       "      <th>500</th>\n",
       "      <th>1000</th>\n",
       "      <th>1500</th>\n",
       "      <th>2000</th>\n",
       "      <th>2500</th>\n",
       "      <th>3000</th>\n",
       "      <th>3500</th>\n",
       "    </tr>\n",
       "  </thead>\n",
       "  <tbody>\n",
       "    <tr>\n",
       "      <th>0.01</th>\n",
       "      <td>0.841584</td>\n",
       "      <td>0.858086</td>\n",
       "      <td>0.858086</td>\n",
       "      <td>0.854785</td>\n",
       "      <td>0.854785</td>\n",
       "      <td>0.854785</td>\n",
       "      <td>0.858086</td>\n",
       "    </tr>\n",
       "    <tr>\n",
       "      <th>0.05</th>\n",
       "      <td>0.854785</td>\n",
       "      <td>0.858086</td>\n",
       "      <td>0.858086</td>\n",
       "      <td>0.858086</td>\n",
       "      <td>0.858086</td>\n",
       "      <td>0.858086</td>\n",
       "      <td>0.858086</td>\n",
       "    </tr>\n",
       "    <tr>\n",
       "      <th>0.10</th>\n",
       "      <td>0.858086</td>\n",
       "      <td>0.858086</td>\n",
       "      <td>0.858086</td>\n",
       "      <td>0.858086</td>\n",
       "      <td>0.858086</td>\n",
       "      <td>0.858086</td>\n",
       "      <td>0.858086</td>\n",
       "    </tr>\n",
       "    <tr>\n",
       "      <th>0.20</th>\n",
       "      <td>0.858086</td>\n",
       "      <td>0.858086</td>\n",
       "      <td>0.858086</td>\n",
       "      <td>0.858086</td>\n",
       "      <td>0.858086</td>\n",
       "      <td>0.858086</td>\n",
       "      <td>0.858086</td>\n",
       "    </tr>\n",
       "    <tr>\n",
       "      <th>0.30</th>\n",
       "      <td>0.858086</td>\n",
       "      <td>0.858086</td>\n",
       "      <td>0.858086</td>\n",
       "      <td>0.858086</td>\n",
       "      <td>0.858086</td>\n",
       "      <td>0.858086</td>\n",
       "      <td>0.858086</td>\n",
       "    </tr>\n",
       "    <tr>\n",
       "      <th>0.40</th>\n",
       "      <td>0.858086</td>\n",
       "      <td>0.858086</td>\n",
       "      <td>0.858086</td>\n",
       "      <td>0.858086</td>\n",
       "      <td>0.858086</td>\n",
       "      <td>0.858086</td>\n",
       "      <td>0.858086</td>\n",
       "    </tr>\n",
       "  </tbody>\n",
       "</table>\n",
       "</div>"
      ],
      "text/plain": [
       "           500      1000      1500      2000      2500      3000      3500\n",
       "0.01  0.841584  0.858086  0.858086  0.854785  0.854785  0.854785  0.858086\n",
       "0.05  0.854785  0.858086  0.858086  0.858086  0.858086  0.858086  0.858086\n",
       "0.10  0.858086  0.858086  0.858086  0.858086  0.858086  0.858086  0.858086\n",
       "0.20  0.858086  0.858086  0.858086  0.858086  0.858086  0.858086  0.858086\n",
       "0.30  0.858086  0.858086  0.858086  0.858086  0.858086  0.858086  0.858086\n",
       "0.40  0.858086  0.858086  0.858086  0.858086  0.858086  0.858086  0.858086"
      ]
     },
     "execution_count": 435,
     "metadata": {},
     "output_type": "execute_result"
    }
   ],
   "source": [
    "BusquedaParametros(fold_cardiaca, 3)"
   ]
  },
  {
   "cell_type": "code",
   "execution_count": 440,
   "metadata": {},
   "outputs": [],
   "source": [
    "theta_diabetes, costo_diabetes, test_diabetes = CalculoParametros(fold_diabetes, 3, 2500, 0.05)\n",
    "theta_cardiaca, costo_cardiaca, test_cardiaca = CalculoParametros(fold_cardiaca, 3, 1000, 0.20)\n",
    "#costo_diabetes[0]"
   ]
  },
  {
   "cell_type": "code",
   "execution_count": 449,
   "metadata": {},
   "outputs": [],
   "source": [
    "def PloteoCurvaCosto (arr: np.array, title):       \n",
    "    #arr_theta.append(theta_grad[-1])\n",
    "    #print (pd.DataFrame(arr))\n",
    "    fig, ax = plt.subplots()\n",
    "    #Ploteo de Curva\n",
    "    scale = 1.0\n",
    "    color = 'tab:blue'\n",
    "    iteraciones = len(arr)\n",
    "    plt.plot(range(0,iteraciones), arr, 'o', linewidth=1, markersize=2 )\n",
    "\n",
    "    plt.title(title, {'fontsize':10})\n",
    "    ax.set(xlim = [-10,iteraciones], ylim = (arr[-1]-0.1,arr[0]))\n",
    "    ax.grid(True)\n",
    "    plt.xlabel('Iteración')\n",
    "    plt.ylabel('Costo')\n",
    "    plt.show()"
   ]
  },
  {
   "cell_type": "code",
   "execution_count": 450,
   "metadata": {},
   "outputs": [
    {
     "data": {
      "image/png": "[encoded data removed]",
      "text/plain": [
       "<Figure size 432x288 with 1 Axes>"
      ]
     },
     "metadata": {
      "needs_background": "light"
     },
     "output_type": "display_data"
    },
    {
     "data": {
      "image/png": "[encoded data removed]",
      "text/plain": [
       "<Figure size 432x288 with 1 Axes>"
      ]
     },
     "metadata": {
      "needs_background": "light"
     },
     "output_type": "display_data"
    },
    {
     "data": {
      "image/png": "[encoded data removed]",
      "text/plain": [
       "<Figure size 432x288 with 1 Axes>"
      ]
     },
     "metadata": {
      "needs_background": "light"
     },
     "output_type": "display_data"
    }
   ],
   "source": [
    "PloteoCurvaCosto(costo_diabetes[0], \"Diabetes\")\n",
    "PloteoCurvaCosto(costo_diabetes[1], \"Diabetes\")\n",
    "PloteoCurvaCosto(costo_diabetes[2], \"Diabetes\")"
   ]
  },
  {
   "cell_type": "code",
   "execution_count": 451,
   "metadata": {},
   "outputs": [
    {
     "data": {
      "text/plain": [
       "0.7460758087281606"
      ]
     },
     "execution_count": 451,
     "metadata": {},
     "output_type": "execute_result"
    }
   ],
   "source": [
    "PromedioAccuracy(test_diabetes, theta_diabetes, 3)"
   ]
  },
  {
   "cell_type": "code",
   "execution_count": 452,
   "metadata": {},
   "outputs": [
    {
     "data": {
      "text/plain": [
       "0.8580858085808581"
      ]
     },
     "execution_count": 452,
     "metadata": {},
     "output_type": "execute_result"
    }
   ],
   "source": [
    "PromedioAccuracy(test_cardiaca, theta_cardiaca, 3)"
   ]
  },
  {
   "cell_type": "code",
   "execution_count": 453,
   "metadata": {},
   "outputs": [
    {
     "data": {
      "image/png": "[encoded data removed]",
      "text/plain": [
       "<Figure size 432x288 with 1 Axes>"
      ]
     },
     "metadata": {
      "needs_background": "light"
     },
     "output_type": "display_data"
    },
    {
     "data": {
      "image/png": "[encoded data removed]",
      "text/plain": [
       "<Figure size 432x288 with 1 Axes>"
      ]
     },
     "metadata": {
      "needs_background": "light"
     },
     "output_type": "display_data"
    },
    {
     "data": {
      "image/png": "[encoded data removed]",
      "text/plain": [
       "<Figure size 432x288 with 1 Axes>"
      ]
     },
     "metadata": {
      "needs_background": "light"
     },
     "output_type": "display_data"
    }
   ],
   "source": [
    "PloteoCurvaCosto(costo_cardiaca[0], \"Enfermedad Cardiaca\")\n",
    "PloteoCurvaCosto(costo_cardiaca[1], \"Enfermedad Cardiaca\")\n",
    "PloteoCurvaCosto(costo_cardiaca[2], \"Enfermedad Cardiaca\")\n"
   ]
  },
  {
   "cell_type": "code",
   "execution_count": null,
   "metadata": {},
   "outputs": [],
   "source": []
  }
 ],
 "metadata": {
  "kernelspec": {
   "display_name": "Python 3",
   "language": "python",
   "name": "python3"
  },
  "language_info": {
   "codemirror_mode": {
    "name": "ipython",
    "version": 3
   },
   "file_extension": ".py",
   "mimetype": "text/x-python",
   "name": "python",
   "nbconvert_exporter": "python",
   "pygments_lexer": "ipython3",
   "version": "3.7.7"
  }
 },
 "nbformat": 4,
 "nbformat_minor": 4
}
